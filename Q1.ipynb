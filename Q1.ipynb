{
 "cells": [
  {
   "cell_type": "code",
   "execution_count": 4,
   "id": "d6abc25e",
   "metadata": {},
   "outputs": [
    {
     "name": "stdout",
     "output_type": "stream",
     "text": [
      "rows=?4\n",
      "coordinate 1:22292\n",
      "coordinate 1:1221812\n",
      "coordinate 1:22\n",
      "coordinate 2:212191\n",
      "coordinate 2:1219190\n",
      "coordinate 2:1212122\n",
      "coordinate 3:122822\n",
      "coordinate 3:1222\n",
      "coordinate 3:2929\n",
      "coordinate 4:22281\n",
      "coordinate 4:2229\n",
      "coordinate 4:299\n",
      "Co-ordinates with indexes 1,3 in the array have the shortest Euclidian distance\n",
      "23928.983054028853\n"
     ]
    },
    {
     "name": "stderr",
     "output_type": "stream",
     "text": [
      "<ipython-input-4-0cc5cdf005ba>:17: RuntimeWarning: invalid value encountered in sqrt\n",
      "  k=np.sqrt(np.sum(np.square(n[f]-n[g])))\n"
     ]
    }
   ],
   "source": [
    "import numpy as np\n",
    "\n",
    "r=int(input(\"rows=?\")) #take row input\n",
    "c=int(3)\n",
    "m=[ ]                  #initialize an empty matrix\n",
    "for i in range(r):\n",
    "    l=[]\n",
    "    for j in range(c):\n",
    "        v=int(input(\"coordinate {}:\".format(i+1)))  #take coordinate input\n",
    "        l.append(v)                               \n",
    "    m.append(l)                      #append l to m making it a 2-D array\n",
    "n=np.array(m)                                   \n",
    "def findMinEuDist(n,r):\n",
    "  minEuDist=10**10                   #initialize a minEuDist as infinite\n",
    "  for f in range(r):\n",
    "    for g in range(f+1,r):           # Find the minEuDist by comparing distances of all possible pairs in given array\n",
    "     k=np.sqrt(np.sum(np.square(n[f]-n[g])))                            \n",
    "     if k < minEuDist:\n",
    "        minEuDist=k\n",
    "        f1=f\n",
    "        g1=g\n",
    "  print(\"Co-ordinates with indexes {},{} in the array have the shortest Euclidian distance\".format(f1, g1))\n",
    "  return minEuDist                       #return minEuDist\n",
    "print(findMinEuDist(n,r))\n"
   ]
  },
  {
   "cell_type": "code",
   "execution_count": null,
   "id": "4cfef0e1",
   "metadata": {},
   "outputs": [],
   "source": []
  }
 ],
 "metadata": {
  "kernelspec": {
   "display_name": "Python 3",
   "language": "python",
   "name": "python3"
  },
  "language_info": {
   "codemirror_mode": {
    "name": "ipython",
    "version": 3
   },
   "file_extension": ".py",
   "mimetype": "text/x-python",
   "name": "python",
   "nbconvert_exporter": "python",
   "pygments_lexer": "ipython3",
   "version": "3.8.8"
  }
 },
 "nbformat": 4,
 "nbformat_minor": 5
}
